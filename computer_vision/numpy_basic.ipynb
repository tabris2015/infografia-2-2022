{
  "nbformat": 4,
  "nbformat_minor": 2,
  "metadata": {
    "colab": {
      "name": "numpy_basic.ipynb",
      "provenance": []
    },
    "kernelspec": {
      "name": "python3",
      "display_name": "Python 3.8.10 64-bit ('unifranz': virtualenv)"
    },
    "language_info": {
      "name": "python",
      "version": "3.8.10",
      "mimetype": "text/x-python",
      "codemirror_mode": {
        "name": "ipython",
        "version": 3
      },
      "pygments_lexer": "ipython3",
      "nbconvert_exporter": "python",
      "file_extension": ".py"
    },
    "interpreter": {
      "hash": "1ab428ee19fa23895928c57f899c1204b3d8696ddf62ae9fde4c203d22f384d0"
    }
  },
  "cells": [
    {
      "cell_type": "markdown",
      "source": [
        "# Introducción a Numpy\n",
        "Numpy es una librería de cálculo numérico y matricial para python.\n",
        "Contiene muchas funciones para la manipulación de matrices y arrays multidimensionales. Las funciones de numpy estan optimizadas para una ejecución más veloz en el procesador.\n",
        "\n",
        "Es recomendable redefinir las operacioens matriciales para aprovechar los algoritmos optimizados de numpy. Esta operación se conoce como **vectorizar** el código."
      ],
      "metadata": {
        "id": "auOWfm3eZtOJ",
        "colab_type": "text"
      }
    },
    {
      "cell_type": "code",
      "execution_count": 1,
      "source": [
        "# importamos la librería como un alias\n",
        "import numpy as np"
      ],
      "outputs": [],
      "metadata": {
        "id": "PHYVTaOdZtOM",
        "colab_type": "code",
        "colab": {}
      }
    },
    {
      "cell_type": "markdown",
      "source": [
        "## Arrays\n",
        "\n",
        "Los arrays de numpy se pueden inicializar con listas comunes de python.\n",
        "Las listas deben contener elementos del **mismo tipo**."
      ],
      "metadata": {
        "id": "9kCgpUyOZtOU",
        "colab_type": "text"
      }
    },
    {
      "cell_type": "code",
      "execution_count": 3,
      "source": [
        "a = np.array([1, 2, 3])\n",
        "print(type(a))\n",
        "# para imprimir las dimensiones de la matriz\n",
        "print(a.shape)\n",
        "print(a[0], a[1], a[2])\n",
        "a[0] = 5\n",
        "print(a)"
      ],
      "outputs": [
        {
          "output_type": "stream",
          "name": "stdout",
          "text": [
            "<class 'numpy.ndarray'>\n",
            "(3,)\n",
            "1 2 3\n",
            "[5 2 3]\n"
          ]
        }
      ],
      "metadata": {
        "id": "Wr0n3sUoZtOV",
        "colab_type": "code",
        "outputId": "6b8427a7-ba89-461b-84c7-458a9f3358a2",
        "colab": {
          "base_uri": "https://localhost:8080/",
          "height": 87
        }
      }
    },
    {
      "cell_type": "code",
      "execution_count": 4,
      "source": [
        "mat = [[1, 2, 3], [4, 5, 6]]\n",
        "print(mat)\n",
        "print(mat[0])\n",
        "print(mat[0][1])"
      ],
      "outputs": [
        {
          "output_type": "stream",
          "name": "stdout",
          "text": [
            "[[1, 2, 3], [4, 5, 6]]\n",
            "[1, 2, 3]\n",
            "2\n"
          ]
        }
      ],
      "metadata": {}
    },
    {
      "cell_type": "code",
      "execution_count": 5,
      "source": [
        "b = np.array([[1, 2, 3], [4, 5, 6]])\n",
        "print(b.shape)\n",
        "print(b[0, 0], b[0, 1], b[1, 0])\n",
        "print(b)"
      ],
      "outputs": [
        {
          "output_type": "stream",
          "name": "stdout",
          "text": [
            "(2, 3)\n",
            "1 2 4\n",
            "[[1 2 3]\n",
            " [4 5 6]]\n"
          ]
        }
      ],
      "metadata": {
        "id": "Tta799dhZtOb",
        "colab_type": "code",
        "colab": {}
      }
    },
    {
      "cell_type": "code",
      "execution_count": 6,
      "source": [
        "c = np.array([[[1, 2, 3], [4, 5, 6]], [[1, 2, 3], [4, 5, 6]]])\n",
        "print(c.shape)\n",
        "print(c[1, 0, 0], c[0 ,0, 1], c[0, 1, 0])\n",
        "print(c)"
      ],
      "outputs": [
        {
          "output_type": "stream",
          "name": "stdout",
          "text": [
            "(2, 2, 3)\n",
            "1 2 4\n",
            "[[[1 2 3]\n",
            "  [4 5 6]]\n",
            "\n",
            " [[1 2 3]\n",
            "  [4 5 6]]]\n"
          ]
        }
      ],
      "metadata": {}
    },
    {
      "cell_type": "markdown",
      "source": [
        "## Creación de matrices especiales (contenedores)\n"
      ],
      "metadata": {
        "id": "H9nOXftkZtOe",
        "colab_type": "text"
      }
    },
    {
      "cell_type": "code",
      "execution_count": 7,
      "source": [
        "# matriz llena de ceros\n",
        "a = np.zeros((2, 3))\n",
        "print(a)\n",
        "print(a.shape)"
      ],
      "outputs": [
        {
          "output_type": "stream",
          "name": "stdout",
          "text": [
            "[[0. 0. 0.]\n",
            " [0. 0. 0.]]\n",
            "(2, 3)\n"
          ]
        }
      ],
      "metadata": {
        "id": "K5_4oxCXZtOg",
        "colab_type": "code",
        "outputId": "86f3280e-9e57-4497-d7bd-452bbb7c7cfb",
        "colab": {
          "base_uri": "https://localhost:8080/",
          "height": 52
        }
      }
    },
    {
      "cell_type": "code",
      "execution_count": 8,
      "source": [
        "filas = 3\n",
        "cols = 4\n",
        "matriz = []\n",
        "for f in range(filas):\n",
        "    fila = [0 for c in range(cols)]\n",
        "    matriz.append(fila)\n",
        "\n",
        "print(matriz)\n",
        "print(len(matriz), len(matriz[0]))"
      ],
      "outputs": [
        {
          "output_type": "stream",
          "name": "stdout",
          "text": [
            "[[0, 0, 0, 0], [0, 0, 0, 0], [0, 0, 0, 0]]\n",
            "3 4\n"
          ]
        }
      ],
      "metadata": {}
    },
    {
      "cell_type": "code",
      "execution_count": 9,
      "source": [
        "# matriz llena de unos\n",
        "b = np.ones((3, 5))\n",
        "print(b)\n",
        "print(b.shape)"
      ],
      "outputs": [
        {
          "output_type": "stream",
          "name": "stdout",
          "text": [
            "[[1. 1. 1. 1. 1.]\n",
            " [1. 1. 1. 1. 1.]\n",
            " [1. 1. 1. 1. 1.]]\n",
            "(3, 5)\n"
          ]
        }
      ],
      "metadata": {
        "id": "V67YBDyUZtOk",
        "colab_type": "code",
        "outputId": "74df4fbe-0876-4c6e-b939-145a260f97af",
        "colab": {}
      }
    },
    {
      "cell_type": "code",
      "execution_count": 10,
      "source": [
        "# matriz llena de valores\n",
        "c = np.full((2, 2), 7)\n",
        "print(c)"
      ],
      "outputs": [
        {
          "output_type": "stream",
          "name": "stdout",
          "text": [
            "[[7 7]\n",
            " [7 7]]\n"
          ]
        }
      ],
      "metadata": {
        "id": "fBAinMGbZtOo",
        "colab_type": "code",
        "outputId": "03dcb7e4-1ae0-4fd0-c9b7-718fcf00daeb",
        "colab": {}
      }
    },
    {
      "cell_type": "code",
      "execution_count": 11,
      "source": [
        "np.ones((2, 2)) * 7"
      ],
      "outputs": [
        {
          "output_type": "execute_result",
          "data": {
            "text/plain": [
              "array([[7., 7.],\n",
              "       [7., 7.]])"
            ]
          },
          "metadata": {},
          "execution_count": 11
        }
      ],
      "metadata": {}
    },
    {
      "cell_type": "code",
      "execution_count": 13,
      "source": [
        "# matriz identidad\n",
        "d = np.eye(3)\n",
        "print(d)\n",
        "print(d.shape)"
      ],
      "outputs": [
        {
          "output_type": "stream",
          "name": "stdout",
          "text": [
            "[[1. 0. 0.]\n",
            " [0. 1. 0.]\n",
            " [0. 0. 1.]]\n",
            "(3, 3)\n"
          ]
        }
      ],
      "metadata": {
        "id": "F1SUoO1WZtOq",
        "colab_type": "code",
        "outputId": "7e46e5ff-785e-46ac-fac3-f8a2a682b0a6",
        "colab": {}
      }
    },
    {
      "cell_type": "code",
      "execution_count": 20,
      "source": [
        "# matriz con valores aleatorios\n",
        "e = np.random.random((5, 3))\n",
        "print(e)\n",
        "print(e.shape)"
      ],
      "outputs": [
        {
          "output_type": "stream",
          "name": "stdout",
          "text": [
            "[[0.87260208 0.83284091 0.8530551 ]\n",
            " [0.87912418 0.15505385 0.48701868]\n",
            " [0.32412128 0.35835783 0.36585348]\n",
            " [0.99043884 0.30881711 0.83998685]\n",
            " [0.96552456 0.11416173 0.7188428 ]]\n",
            "(5, 3)\n"
          ]
        }
      ],
      "metadata": {
        "id": "rJpn0hTxZtOu",
        "colab_type": "code",
        "outputId": "ec849a09-6a8a-404c-dfd8-9738694f664c",
        "colab": {}
      }
    },
    {
      "cell_type": "markdown",
      "source": [
        "## Array indexing\n",
        "Una de las funcionalidades más interesantes de numpy es la indexación de arrays multidimensionales."
      ],
      "metadata": {
        "id": "o-3dalpNZtOx",
        "colab_type": "text"
      }
    },
    {
      "cell_type": "code",
      "execution_count": 22,
      "source": [
        "a = np.array([[1, 2, 3, 4], [5, 6, 7, 8], [9, 10, 11, 12]])\n",
        "print(a)\n",
        "print(a.shape)\n",
        "# acceso a un elemento \n",
        "print(a[1, 2])"
      ],
      "outputs": [
        {
          "output_type": "stream",
          "name": "stdout",
          "text": [
            "[[ 1  2  3  4]\n",
            " [ 5  6  7  8]\n",
            " [ 9 10 11 12]]\n",
            "(3, 4)\n",
            "7\n"
          ]
        }
      ],
      "metadata": {
        "id": "iE9uG2FnZtOy",
        "colab_type": "code",
        "outputId": "2e29358d-0f07-4de0-d03e-8e9fca84bcc4",
        "colab": {}
      }
    },
    {
      "cell_type": "code",
      "execution_count": 27,
      "source": [
        "# acceso mediante rangos\n",
        "b = a[-2:, 0:1]\n",
        "print(b)"
      ],
      "outputs": [
        {
          "output_type": "stream",
          "name": "stdout",
          "text": [
            "[[5]\n",
            " [9]]\n"
          ]
        }
      ],
      "metadata": {
        "id": "4JLpuX7VZtO0",
        "colab_type": "code",
        "outputId": "13a0e674-4648-43e0-cba8-79cac71dd906",
        "colab": {}
      }
    },
    {
      "cell_type": "code",
      "execution_count": 29,
      "source": [
        "b[0, 0] = 77\n",
        "print(b)"
      ],
      "outputs": [
        {
          "output_type": "stream",
          "name": "stdout",
          "text": [
            "[[77]\n",
            " [ 9]]\n"
          ]
        }
      ],
      "metadata": {
        "id": "VIS4w4eQZtO3",
        "colab_type": "code",
        "outputId": "02e14e49-4c05-41d0-f33d-c41b48fe477b",
        "colab": {}
      }
    },
    {
      "cell_type": "code",
      "execution_count": 30,
      "source": [
        "# extraccion de filas y rangos de filas\n",
        "a = np.array([[1, 2, 3, 4], [5, 6, 7, 8], [9, 10, 11, 12]])\n",
        "row_r1 = a[1, :]        # vector\n",
        "row_r2 = a[1:2, :]      # rangos: matriz\n",
        "print(row_r1, row_r1.shape)\n",
        "print(row_r2, row_r2.shape)"
      ],
      "outputs": [
        {
          "output_type": "stream",
          "name": "stdout",
          "text": [
            "[5 6 7 8] (4,)\n",
            "[[5 6 7 8]] (1, 4)\n"
          ]
        }
      ],
      "metadata": {
        "id": "1c2-Bw1ZZtO5",
        "colab_type": "code",
        "outputId": "6583cc33-8a99-4888-88c1-0150d0f908c4",
        "colab": {}
      }
    },
    {
      "cell_type": "code",
      "execution_count": 31,
      "source": [
        "# extracción de columnas y rangos de columnas\n",
        "col_r1 = a[:, 2]\n",
        "col_r2 = a[:, 2:3]\n",
        "print(col_r1, col_r1.shape)\n",
        "print(col_r2, col_r2.shape)"
      ],
      "outputs": [
        {
          "output_type": "stream",
          "name": "stdout",
          "text": [
            "[ 3  7 11] (3,)\n",
            "[[ 3]\n",
            " [ 7]\n",
            " [11]] (3, 1)\n"
          ]
        }
      ],
      "metadata": {
        "id": "70tAiNbfZtPD",
        "colab_type": "code",
        "outputId": "307d81cd-7a11-4164-e5a3-f5eeadce8edd",
        "colab": {}
      }
    },
    {
      "cell_type": "markdown",
      "source": [
        "## Array math\n",
        "Numpy ofrece numerosas funciones para realizar operaciones matemáticas con arrays multidimensionales."
      ],
      "metadata": {
        "id": "KFi2ylSWZtPG",
        "colab_type": "text"
      }
    },
    {
      "cell_type": "code",
      "execution_count": 32,
      "source": [
        "# element wise addition\n",
        "x = np.array([[1, 2], [3, 4]], dtype=np.float64)\n",
        "y = np.array([[5, 6], [7, 3]], dtype=np.float64)\n",
        "print(x + y)\n",
        "print(np.add(x, y))\n",
        "print(x + y == np.add(x, y))"
      ],
      "outputs": [
        {
          "output_type": "stream",
          "name": "stdout",
          "text": [
            "[[ 6.  8.]\n",
            " [10.  7.]]\n",
            "[[ 6.  8.]\n",
            " [10.  7.]]\n",
            "[[ True  True]\n",
            " [ True  True]]\n"
          ]
        }
      ],
      "metadata": {
        "id": "4X2cl3CyZtPH",
        "colab_type": "code",
        "outputId": "54e64cc1-97d0-4070-8d88-ecaaa11b80b2",
        "colab": {}
      }
    },
    {
      "cell_type": "code",
      "execution_count": 33,
      "source": [
        "# element wise substraction\n",
        "print(x - y)\n",
        "print(np.subtract(x, y))"
      ],
      "outputs": [
        {
          "output_type": "stream",
          "name": "stdout",
          "text": [
            "[[-4. -4.]\n",
            " [-4.  1.]]\n",
            "[[-4. -4.]\n",
            " [-4.  1.]]\n"
          ]
        }
      ],
      "metadata": {
        "id": "szXfbuBaZtPJ",
        "colab_type": "code",
        "outputId": "03d1f17b-b811-4b85-af4f-d096a89eb671",
        "colab": {}
      }
    },
    {
      "cell_type": "code",
      "execution_count": 34,
      "source": [
        "# element wise multiplication\n",
        "print(x * y)\n",
        "print(np.multiply(x, y))"
      ],
      "outputs": [
        {
          "output_type": "stream",
          "name": "stdout",
          "text": [
            "[[ 5. 12.]\n",
            " [21. 12.]]\n",
            "[[ 5. 12.]\n",
            " [21. 12.]]\n"
          ]
        }
      ],
      "metadata": {
        "id": "8U4f1U0jZtPL",
        "colab_type": "code",
        "outputId": "b0c14b41-0477-4233-d64c-8162ffda3d42",
        "colab": {}
      }
    },
    {
      "cell_type": "code",
      "execution_count": 35,
      "source": [
        "\n",
        "print(x / y)\n",
        "print(np.divide(x, y))"
      ],
      "outputs": [
        {
          "output_type": "stream",
          "name": "stdout",
          "text": [
            "[[0.2        0.33333333]\n",
            " [0.42857143 1.33333333]]\n",
            "[[0.2        0.33333333]\n",
            " [0.42857143 1.33333333]]\n"
          ]
        }
      ],
      "metadata": {
        "id": "eYjZ4RGSZtPO",
        "colab_type": "code",
        "outputId": "434093d4-5f36-421c-e99a-5f91e1987b02",
        "colab": {}
      }
    },
    {
      "cell_type": "code",
      "execution_count": 36,
      "source": [
        "# funciones especiales\n",
        "print(np.sqrt(x))"
      ],
      "outputs": [
        {
          "output_type": "stream",
          "name": "stdout",
          "text": [
            "[[1.         1.41421356]\n",
            " [1.73205081 2.        ]]\n"
          ]
        }
      ],
      "metadata": {
        "id": "suaX-gEIZtPQ",
        "colab_type": "code",
        "outputId": "43bc7d64-b8fe-4d15-b8db-311169d5178f",
        "colab": {}
      }
    },
    {
      "cell_type": "code",
      "execution_count": 37,
      "source": [
        "print(np.exp(x))"
      ],
      "outputs": [
        {
          "output_type": "stream",
          "name": "stdout",
          "text": [
            "[[ 2.71828183  7.3890561 ]\n",
            " [20.08553692 54.59815003]]\n"
          ]
        }
      ],
      "metadata": {}
    },
    {
      "cell_type": "code",
      "execution_count": 41,
      "source": [
        "# producto escalar\n",
        "v = np.array([9, 10, 2])\n",
        "w = np.array([11, 12, 3])\n",
        "\n",
        "acum = 0\n",
        "for i in range(v.size):\n",
        "    prod = v[i] * w[i]\n",
        "    acum += prod\n",
        "\n",
        "print(f'bucle: {acum}')\n",
        "print(v.dot(w))\n",
        "print(np.dot(v, w))"
      ],
      "outputs": [
        {
          "output_type": "stream",
          "name": "stdout",
          "text": [
            "bucle: 225\n",
            "225\n",
            "225\n"
          ]
        }
      ],
      "metadata": {
        "id": "d-hVg_ZFZtPT",
        "colab_type": "code",
        "outputId": "335b2eab-7ec0-40e4-ab37-823e781fd1c4",
        "colab": {}
      }
    },
    {
      "cell_type": "code",
      "execution_count": 45,
      "source": [
        "x = np.array([[1, 2], [3, 4]])\n",
        "y = np.array([[5, 6, 4], [7, 8, 6]])\n",
        "# multiplicacion de matrices\n",
        "print(x.shape, y.shape)\n",
        "\n",
        "print(np.dot(x, y))"
      ],
      "outputs": [
        {
          "output_type": "stream",
          "name": "stdout",
          "text": [
            "(2, 2) (2, 3)\n",
            "[[19 22 16]\n",
            " [43 50 36]]\n"
          ]
        }
      ],
      "metadata": {
        "id": "nQoro2PBZtPV",
        "colab_type": "code",
        "outputId": "b672c66a-57ba-4d3b-8a08-f78b2771b82f",
        "colab": {}
      }
    },
    {
      "cell_type": "code",
      "execution_count": 46,
      "source": [
        "print(x.dot(y))\n",
        "print(np.dot(x, y))"
      ],
      "outputs": [
        {
          "output_type": "stream",
          "name": "stdout",
          "text": [
            "[[19 22 16]\n",
            " [43 50 36]]\n",
            "[[19 22 16]\n",
            " [43 50 36]]\n"
          ]
        }
      ],
      "metadata": {
        "id": "kCDWKGE9ZtPX",
        "colab_type": "code",
        "outputId": "6b75248e-5ffa-4355-ee22-84cb72f07089",
        "colab": {}
      }
    },
    {
      "cell_type": "code",
      "execution_count": 49,
      "source": [
        "# reducción de matrices\n",
        "x = np.array([[1, 2], [3, 4]])\n",
        "print(x)\n",
        "print(np.sum(x))\n",
        "# sobre columnas: axis = 1\n",
        "print(np.sum(x, axis=1))\n",
        "# sobre filas: axis = 0\n",
        "print(np.sum(x, axis=0))\n",
        "\n",
        "print(np.sum(x, axis=1, keepdims=True))"
      ],
      "outputs": [
        {
          "output_type": "stream",
          "name": "stdout",
          "text": [
            "[[1 2]\n",
            " [3 4]]\n",
            "10\n",
            "[3 7]\n",
            "[4 6]\n",
            "[[3]\n",
            " [7]]\n"
          ]
        }
      ],
      "metadata": {
        "id": "z5DPUOjRZtPZ",
        "colab_type": "code",
        "outputId": "549787b0-0a10-47e0-a4b7-6bf53d9ca799",
        "colab": {}
      }
    },
    {
      "cell_type": "code",
      "execution_count": 50,
      "source": [
        "# matriz traspuesta\n",
        "x = np.array([[1, 2], [3, 4], [5, 6]])\n",
        "print(x, x.shape)\n",
        "print(x.T, x.T.shape)"
      ],
      "outputs": [
        {
          "output_type": "stream",
          "name": "stdout",
          "text": [
            "[[1 2]\n",
            " [3 4]\n",
            " [5 6]] (3, 2)\n",
            "[[1 3 5]\n",
            " [2 4 6]] (2, 3)\n"
          ]
        }
      ],
      "metadata": {
        "id": "cTLs03FoZtPe",
        "colab_type": "code",
        "outputId": "c1381cd2-f211-4181-fc70-4bd9819373b3",
        "colab": {}
      }
    },
    {
      "cell_type": "code",
      "execution_count": 53,
      "source": [
        "v = np.array([[1, 2, 3]])\n",
        "print(v)\n",
        "print(v.T)"
      ],
      "outputs": [
        {
          "output_type": "stream",
          "name": "stdout",
          "text": [
            "[[1 2 3]]\n",
            "[[1]\n",
            " [2]\n",
            " [3]]\n"
          ]
        }
      ],
      "metadata": {
        "id": "wi5ELhYgZtPi",
        "colab_type": "code",
        "outputId": "093e793f-1c2e-4bba-ae51-d6fa917c05b3",
        "colab": {}
      }
    },
    {
      "cell_type": "markdown",
      "source": [
        "## Matplotlib"
      ],
      "metadata": {
        "id": "Um-QIoFkZtPm",
        "colab_type": "text"
      }
    },
    {
      "cell_type": "markdown",
      "source": [
        "### Plotting"
      ],
      "metadata": {
        "id": "dq91u7uGZtPm",
        "colab_type": "text"
      }
    },
    {
      "cell_type": "code",
      "execution_count": 56,
      "source": [
        "import matplotlib.pyplot as plt\n",
        "%matplotlib inline\n",
        "\n",
        "x = np.arange(0, 2 * np.pi, 0.1)\n",
        "y = x**2\n",
        "\n",
        "plt.plot(x, y)\n"
      ],
      "outputs": [
        {
          "output_type": "execute_result",
          "data": {
            "text/plain": [
              "[<matplotlib.lines.Line2D at 0x7fb60f2961f0>]"
            ]
          },
          "metadata": {},
          "execution_count": 56
        },
        {
          "output_type": "display_data",
          "data": {
            "image/png": "[encoded data removed]",
            "text/plain": [
              "<Figure size 432x288 with 1 Axes>"
            ]
          },
          "metadata": {
            "needs_background": "light"
          }
        }
      ],
      "metadata": {
        "id": "LhNWTsnLZtPn",
        "colab_type": "code",
        "outputId": "fb0f0733-989c-4ac7-f72a-8521f5200257",
        "colab": {
          "base_uri": "https://localhost:8080/",
          "height": 286
        }
      }
    },
    {
      "cell_type": "code",
      "execution_count": 57,
      "source": [
        "x = np.arange(0, 3 * np.pi, 0.1)\n",
        "y_sin = np.sin(x)\n",
        "y_cos = np.cos(x)\n",
        "\n",
        "plt.plot(x, y_sin)\n",
        "plt.plot(x, y_cos)\n",
        "plt.xlabel('time')\n",
        "plt.ylabel('voltage')\n",
        "plt.title('Sine and Cosine')\n",
        "plt.legend(['Sine', 'Cosine'])\n",
        "plt.show()"
      ],
      "outputs": [
        {
          "output_type": "display_data",
          "data": {
            "image/png": "[encoded data removed]",
            "text/plain": [
              "<Figure size 432x288 with 1 Axes>"
            ]
          },
          "metadata": {
            "needs_background": "light"
          }
        }
      ],
      "metadata": {
        "id": "phGT-nXhZtPp",
        "colab_type": "code",
        "outputId": "106383a2-4676-4177-b74b-e6e99c174d8e",
        "colab": {}
      }
    },
    {
      "cell_type": "markdown",
      "source": [
        "### Subplots"
      ],
      "metadata": {
        "id": "3aPORyL3ZtPr",
        "colab_type": "text"
      }
    },
    {
      "cell_type": "code",
      "execution_count": 58,
      "source": [
        "x = np.arange(0, 3 * np.pi, 0.1)\n",
        "y_sin = np.sin(x)\n",
        "y_cos = np.cos(x)\n",
        "\n",
        "plt.subplot(121)\n",
        "plt.plot(x, y_sin)\n",
        "plt.title('Sine')\n",
        "\n",
        "plt.subplot(122)\n",
        "plt.plot(x, y_cos)\n",
        "plt.title('Cosine')\n",
        "plt.show()"
      ],
      "outputs": [
        {
          "output_type": "display_data",
          "data": {
            "image/png": "[encoded data removed]",
            "text/plain": [
              "<Figure size 432x288 with 2 Axes>"
            ]
          },
          "metadata": {
            "needs_background": "light"
          }
        }
      ],
      "metadata": {
        "id": "ikhm58pKZtPr",
        "colab_type": "code",
        "outputId": "0734e40d-a290-4544-cf63-315a067270c1",
        "colab": {}
      }
    },
    {
      "cell_type": "code",
      "execution_count": null,
      "source": [
        "x = np.array([[1, 2, 3], [4, 5, 6], [7, 8, 9]])\n",
        "d = np.linalg.eigvalsh(x)\n",
        "print(d)"
      ],
      "outputs": [],
      "metadata": {
        "id": "z8j-8kW6ZtPt",
        "colab_type": "code",
        "outputId": "304733e6-cee5-432b-fdcf-6412444d3395",
        "colab": {}
      }
    },
    {
      "cell_type": "markdown",
      "source": [
        "## Notas finales\n",
        "Numpy reemplaza gran parte de la funcionalidad del lenguaje de programación de MATLAB para la manipulación de arrays multidimensionales y la vectorización de operaciones. Sin embargo, la ventaja de numpy es que cuenta con la gran popularidad y capacidad de python con el cual podemos crear desde aplicaciones web hasta sistemas de inteligencia artificial.\n",
        "Para las personas que tienen un background de MATLAB se puede consultar este [cheatsheet](http://mathesaurus.sourceforge.net/matlab-numpy.html)\n",
        "con equivalencias en funciones y operaciones.\n"
      ],
      "metadata": {
        "id": "puNZN36tZtPx",
        "colab_type": "text"
      }
    },
    {
      "cell_type": "code",
      "execution_count": null,
      "source": [],
      "outputs": [],
      "metadata": {
        "id": "K8_crSBMZtPx",
        "colab_type": "code",
        "colab": {}
      }
    }
  ]
}